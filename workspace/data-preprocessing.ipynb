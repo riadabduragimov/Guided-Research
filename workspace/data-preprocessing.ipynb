{
 "cells": [
  {
   "cell_type": "code",
   "execution_count": 1,
   "id": "4eb00c3c",
   "metadata": {},
   "outputs": [
    {
     "name": "stderr",
     "output_type": "stream",
     "text": [
      "25/07/27 02:29:16 WARN NativeCodeLoader: Unable to load native-hadoop library for your platform... using builtin-java classes where applicable\n",
      "Using Spark's default log4j profile: org/apache/spark/log4j-defaults.properties\n",
      "Setting default log level to \"WARN\".\n",
      "To adjust logging level use sc.setLogLevel(newLevel). For SparkR, use setLogLevel(newLevel).\n"
     ]
    }
   ],
   "source": [
    "from pyspark.sql import SparkSession\n",
    "\n",
    "spark = (\n",
    "    SparkSession.builder\n",
    "    .appName(\"HiveSparkIntegration\")\n",
    "    .config(\"spark.sql.catalogImplementation\", \"hive\")\n",
    "    .config(\"spark.hadoop.hive.metastore.uris\", \"thrift://hive-metastore:9083\")\n",
    "    .enableHiveSupport()\n",
    "    .getOrCreate()\n",
    ")\n"
   ]
  },
  {
   "cell_type": "code",
   "execution_count": 2,
   "id": "d28f10c0",
   "metadata": {},
   "outputs": [
    {
     "name": "stdout",
     "output_type": "stream",
     "text": [
      "+-----------+\n",
      "|  namespace|\n",
      "+-----------+\n",
      "|    default|\n",
      "|explanation|\n",
      "|    test_db|\n",
      "+-----------+\n",
      "\n"
     ]
    }
   ],
   "source": [
    "spark.sql(\"Show databases\").show()"
   ]
  },
  {
   "cell_type": "code",
   "execution_count": 37,
   "id": "27a911e4",
   "metadata": {},
   "outputs": [
    {
     "name": "stdout",
     "output_type": "stream",
     "text": [
      "+---+---------+---+--------------------+\n",
      "|_c0|      _c1|_c2|                 _c3|\n",
      "+---+---------+---+--------------------+\n",
      "|  0|  ALGERIA|  0| haggle. carefull...|\n",
      "|  1|ARGENTINA|  1|al foxes promise ...|\n",
      "|  2|   BRAZIL|  1|y alongside of th...|\n",
      "|  3|   CANADA|  1|eas hang ironic, ...|\n",
      "|  4|    EGYPT|  4|y above the caref...|\n",
      "+---+---------+---+--------------------+\n",
      "only showing top 5 rows\n",
      "\n"
     ]
    }
   ],
   "source": [
    "# Read data from HDFS\n",
    "df = spark.read.option(\"delimiter\", \"|\").option(\"header\", \"false\").csv(\"hdfs://namenode:8020/user/admin/data/nation.tbl\")\n",
    "\n",
    "\n",
    "# Show sample data\n",
    "df.show(5)\n"
   ]
  },
  {
   "cell_type": "code",
   "execution_count": 38,
   "id": "7161a3cd",
   "metadata": {},
   "outputs": [
    {
     "name": "stdout",
     "output_type": "stream",
     "text": [
      "+---+---------+---------+--------------------+\n",
      "| id|  country|region_id|         description|\n",
      "+---+---------+---------+--------------------+\n",
      "|  0|  ALGERIA|        0| haggle. carefull...|\n",
      "|  1|ARGENTINA|        1|al foxes promise ...|\n",
      "|  2|   BRAZIL|        1|y alongside of th...|\n",
      "|  3|   CANADA|        1|eas hang ironic, ...|\n",
      "|  4|    EGYPT|        4|y above the caref...|\n",
      "+---+---------+---------+--------------------+\n",
      "only showing top 5 rows\n",
      "\n"
     ]
    }
   ],
   "source": [
    "from pyspark.sql.types import StructType, StructField, StringType, IntegerType\n",
    "\n",
    "# Define schema based on your actual data columns\n",
    "schema = StructType([\n",
    "    StructField(\"id\", StringType(), True),\n",
    "    StructField(\"country\", StringType(), True),\n",
    "    StructField(\"region_id\", StringType(), True),\n",
    "    StructField(\"description\", StringType(), True)\n",
    " \n",
    "\n",
    "])\n",
    "\n",
    "# Reload with schema and delimiter\n",
    "df = spark.read.schema(schema).option(\"delimiter\", \"|\").csv(\"hdfs://namenode:8020/user/admin/data/nation.tbl\")\n",
    "df.show(5)\n"
   ]
  },
  {
   "cell_type": "code",
   "execution_count": 39,
   "id": "16ce6c97",
   "metadata": {},
   "outputs": [],
   "source": [
    "df.createOrReplaceTempView(\"temp_nation\")"
   ]
  },
  {
   "cell_type": "code",
   "execution_count": 40,
   "id": "240d39b9",
   "metadata": {},
   "outputs": [
    {
     "name": "stdout",
     "output_type": "stream",
     "text": [
      "+---+---------+---------+--------------------+\n",
      "| id|  country|region_id|         description|\n",
      "+---+---------+---------+--------------------+\n",
      "|  0|  ALGERIA|        0| haggle. carefull...|\n",
      "|  1|ARGENTINA|        1|al foxes promise ...|\n",
      "|  2|   BRAZIL|        1|y alongside of th...|\n",
      "|  3|   CANADA|        1|eas hang ironic, ...|\n",
      "|  4|    EGYPT|        4|y above the caref...|\n",
      "|  5| ETHIOPIA|        0|ven packages wake...|\n",
      "|  6|   FRANCE|        3|refully final req...|\n",
      "|  7|  GERMANY|        3|l platelets. regu...|\n",
      "|  8|    INDIA|        2|ss excuses cajole...|\n",
      "|  9|INDONESIA|        2| slyly express as...|\n",
      "+---+---------+---------+--------------------+\n",
      "\n",
      "+-----+\n",
      "|total|\n",
      "+-----+\n",
      "|   25|\n",
      "+-----+\n",
      "\n"
     ]
    }
   ],
   "source": [
    "# Example: Select first 10 rows\n",
    "result = spark.sql(\"SELECT * FROM temp_nation LIMIT 10\")\n",
    "result.show()\n",
    "\n",
    "count = spark.sql(\"SELECT COUNT(*) as total FROM temp_nation\")\n",
    "count.show()\n"
   ]
  },
  {
   "cell_type": "code",
   "execution_count": 41,
   "id": "54c9d107",
   "metadata": {},
   "outputs": [
    {
     "name": "stdout",
     "output_type": "stream",
     "text": [
      "+-----------------------------------------------------------------------------------------------------------------------------------------------------------------------------------------------------------------------------------------------------------------------------------------------------------------------------------------------------------------------------------------------------------------------------------------------------------------------------------------------------------------------------------------------+\n",
      "|plan                                                                                                                                                                                                                                                                                                                                                                                                                                                                                                                                           |\n",
      "+-----------------------------------------------------------------------------------------------------------------------------------------------------------------------------------------------------------------------------------------------------------------------------------------------------------------------------------------------------------------------------------------------------------------------------------------------------------------------------------------------------------------------------------------------+\n",
      "|== Physical Plan ==\n",
      "*(1) Project [id#1027, country#1028, region_id#1029, description#1030]\n",
      "+- *(1) Filter (isnotnull(id#1027) AND (id#1027 = 1))\n",
      "   +- FileScan csv [id#1027,country#1028,region_id#1029,description#1030] Batched: false, DataFilters: [isnotnull(id#1027), (id#1027 = 1)], Format: CSV, Location: InMemoryFileIndex[hdfs://namenode:8020/user/admin/data/nation.tbl], PartitionFilters: [], PushedFilters: [IsNotNull(id), EqualTo(id,1)], ReadSchema: struct<id:string,country:string,region_id:string,description:string>\n",
      "\n",
      "|\n",
      "+-----------------------------------------------------------------------------------------------------------------------------------------------------------------------------------------------------------------------------------------------------------------------------------------------------------------------------------------------------------------------------------------------------------------------------------------------------------------------------------------------------------------------------------------------+\n",
      "\n"
     ]
    }
   ],
   "source": [
    "explain_df = spark.sql(\"EXPLAIN SELECT * FROM temp_nation WHERE id = '1'\")\n",
    "\n",
    "explain_df.show(truncate=False)"
   ]
  },
  {
   "cell_type": "code",
   "execution_count": 9,
   "id": "149a18b9",
   "metadata": {},
   "outputs": [
    {
     "name": "stdout",
     "output_type": "stream",
     "text": [
      "+-----------+\n",
      "|  namespace|\n",
      "+-----------+\n",
      "|    default|\n",
      "|explanation|\n",
      "|    test_db|\n",
      "+-----------+\n",
      "\n"
     ]
    }
   ],
   "source": [
    "df1 = spark.sql(\"Show databases\")\n",
    "df1.show()"
   ]
  },
  {
   "cell_type": "code",
   "execution_count": 42,
   "id": "b9ece8ed",
   "metadata": {},
   "outputs": [
    {
     "data": {
      "text/plain": [
       "DataFrame[]"
      ]
     },
     "execution_count": 42,
     "metadata": {},
     "output_type": "execute_result"
    }
   ],
   "source": [
    "spark.sql(\"CREATE TABLE test_db.nation AS SELECT * FROM temp_nation\")"
   ]
  },
  {
   "cell_type": "code",
   "execution_count": 43,
   "id": "9b0521f3",
   "metadata": {},
   "outputs": [
    {
     "data": {
      "text/plain": [
       "DataFrame[id: string, country: string, region_id: string, description: string]"
      ]
     },
     "execution_count": 43,
     "metadata": {},
     "output_type": "execute_result"
    }
   ],
   "source": [
    "spark.sql(\"Select * from test_db.nation\")"
   ]
  },
  {
   "cell_type": "code",
   "execution_count": null,
   "id": "d16060a0",
   "metadata": {},
   "outputs": [],
   "source": []
  }
 ],
 "metadata": {
  "kernelspec": {
   "display_name": "Python 3 (ipykernel)",
   "language": "python",
   "name": "python3"
  },
  "language_info": {
   "codemirror_mode": {
    "name": "ipython",
    "version": 3
   },
   "file_extension": ".py",
   "mimetype": "text/x-python",
   "name": "python",
   "nbconvert_exporter": "python",
   "pygments_lexer": "ipython3",
   "version": "3.7.3"
  }
 },
 "nbformat": 4,
 "nbformat_minor": 5
}
